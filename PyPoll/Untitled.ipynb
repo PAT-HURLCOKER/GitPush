{
 "cells": [
  {
   "cell_type": "code",
   "execution_count": 25,
   "metadata": {},
   "outputs": [],
   "source": [
    "import pandas as pd"
   ]
  },
  {
   "cell_type": "code",
   "execution_count": 26,
   "metadata": {},
   "outputs": [],
   "source": [
    "data_file = \"Resources/election_data.csv\""
   ]
  },
  {
   "cell_type": "code",
   "execution_count": 27,
   "metadata": {},
   "outputs": [],
   "source": [
    "election_data_df = pd.read_csv(data_file)\n",
    "election_data_df\n",
    "Total_votes = election_data_df[\"Voter_ID\"].count()"
   ]
  },
  {
   "cell_type": "code",
   "execution_count": 28,
   "metadata": {},
   "outputs": [
    {
     "data": {
      "text/plain": [
       "['Khan', 'Correy', 'Li', \"O'Tooley\"]"
      ]
     },
     "execution_count": 28,
     "metadata": {},
     "output_type": "execute_result"
    }
   ],
   "source": [
    "Candidates_List =election_data_df[\"Candidate\"].unique().tolist()\n",
    "Candidates_List"
   ]
  },
  {
   "cell_type": "code",
   "execution_count": 29,
   "metadata": {},
   "outputs": [
    {
     "name": "stdout",
     "output_type": "stream",
     "text": [
      "Total votes: 1048575\n"
     ]
    }
   ],
   "source": [
    "election_data_df = pd.read_csv(data_file)\n",
    "election_data_df\n",
    "Total_votes = election_data_df[\"Voter_ID\"].count()\n",
    "print(f\"Total votes: {Total_votes}\")"
   ]
  },
  {
   "cell_type": "code",
   "execution_count": 30,
   "metadata": {},
   "outputs": [
    {
     "name": "stdout",
     "output_type": "stream",
     "text": [
      "Candidate List\n",
      "-------------------------\n"
     ]
    }
   ],
   "source": [
    "Candidates_List =election_data_df[\"Candidate\"].unique().tolist()\n",
    "print(\"Candidate List\")\n",
    "print(\"-------------------------\")\n"
   ]
  },
  {
   "cell_type": "code",
   "execution_count": 31,
   "metadata": {},
   "outputs": [
    {
     "name": "stdout",
     "output_type": "stream",
     "text": [
      "Candidates List\n",
      "-------------------------\n"
     ]
    }
   ],
   "source": [
    "Candidates_List =election_data_df[\"Candidate\"].unique().tolist()\n",
    "print(\"Candidates List\")\n",
    "print(\"-------------------------\")"
   ]
  },
  {
   "cell_type": "code",
   "execution_count": 32,
   "metadata": {},
   "outputs": [
    {
     "name": "stdout",
     "output_type": "stream",
     "text": [
      "Candidates List\n",
      "-------------------------\n"
     ]
    }
   ],
   "source": [
    "Candidates_List =election_data_df[\"Candidate\"].unique().tolist()\n",
    "Candidates_List\n",
    "print(\"Candidates List\")\n",
    "print(\"-------------------------\")"
   ]
  },
  {
   "cell_type": "code",
   "execution_count": 33,
   "metadata": {},
   "outputs": [
    {
     "data": {
      "text/plain": [
       "['Khan', 'Correy', 'Li', \"O'Tooley\"]"
      ]
     },
     "execution_count": 33,
     "metadata": {},
     "output_type": "execute_result"
    }
   ],
   "source": [
    "Candidates_List =election_data_df[\"Candidate\"].unique().tolist()\n",
    "Candidates_List"
   ]
  },
  {
   "cell_type": "code",
   "execution_count": 34,
   "metadata": {},
   "outputs": [
    {
     "ename": "SyntaxError",
     "evalue": "invalid syntax (<ipython-input-34-c34172bb3db6>, line 4)",
     "output_type": "error",
     "traceback": [
      "\u001b[1;36m  File \u001b[1;32m\"<ipython-input-34-c34172bb3db6>\"\u001b[1;36m, line \u001b[1;32m4\u001b[0m\n\u001b[1;33m    print(f\"{candidate}:\"Candidates List\")\u001b[0m\n\u001b[1;37m                                  ^\u001b[0m\n\u001b[1;31mSyntaxError\u001b[0m\u001b[1;31m:\u001b[0m invalid syntax\n"
     ]
    }
   ],
   "source": [
    "Candidates_List = election_data_df[\"Candidate\"].unique().tolist()\n",
    "Candidates_List\n",
    "\n",
    "print(f\"{candidate}:\"Candidates List\")\n",
    "print(\"-------------------------\")"
   ]
  },
  {
   "cell_type": "code",
   "execution_count": 35,
   "metadata": {},
   "outputs": [
    {
     "data": {
      "text/plain": [
       "['Khan', 'Correy', 'Li', \"O'Tooley\"]"
      ]
     },
     "execution_count": 35,
     "metadata": {},
     "output_type": "execute_result"
    }
   ],
   "source": [
    "Candidates_List = election_data_df[\"Candidate\"].unique().tolist()\n",
    "Candidates_List"
   ]
  },
  {
   "cell_type": "code",
   "execution_count": 36,
   "metadata": {},
   "outputs": [
    {
     "data": {
      "text/plain": [
       "Khan        661583\n",
       "Correy      209046\n",
       "Li          146360\n",
       "O'Tooley     31586\n",
       "Name: Candidate, dtype: int64"
      ]
     },
     "execution_count": 36,
     "metadata": {},
     "output_type": "execute_result"
    }
   ],
   "source": [
    "Votes_counted_for_each_candidate =election_data_df[\"Candidate\"].value_counts()\n",
    "Votes_counted_for_each_candidate"
   ]
  },
  {
   "cell_type": "code",
   "execution_count": 37,
   "metadata": {},
   "outputs": [
    {
     "name": "stdout",
     "output_type": "stream",
     "text": [
      "Election Results\n",
      "-------------------------\n",
      "Total votes: 1048575\n",
      "-------------------------\n"
     ]
    }
   ],
   "source": [
    "greatest_num_of_votes = 0\n",
    "print(\"Election Results\")\n",
    "print(\"-------------------------\")\n",
    "print(f\"Total votes: {Total_votes}\")\n",
    "print(\"-------------------------\")\n"
   ]
  },
  {
   "cell_type": "code",
   "execution_count": 38,
   "metadata": {},
   "outputs": [
    {
     "ename": "NameError",
     "evalue": "name 'Candidate' is not defined",
     "output_type": "error",
     "traceback": [
      "\u001b[1;31m---------------------------------------------------------------------------\u001b[0m",
      "\u001b[1;31mNameError\u001b[0m                                 Traceback (most recent call last)",
      "\u001b[1;32m<ipython-input-38-bc2b8a4e25b4>\u001b[0m in \u001b[0;36m<module>\u001b[1;34m()\u001b[0m\n\u001b[0;32m      1\u001b[0m \u001b[1;32mfor\u001b[0m \u001b[0mcandidate\u001b[0m \u001b[1;32min\u001b[0m \u001b[0mCandidates_List\u001b[0m\u001b[1;33m:\u001b[0m\u001b[1;33m\u001b[0m\u001b[0m\n\u001b[1;32m----> 2\u001b[1;33m     \u001b[0mnum_of_votes\u001b[0m \u001b[1;33m=\u001b[0m \u001b[0mVotes_counted_for_each_candidate\u001b[0m\u001b[1;33m[\u001b[0m\u001b[0mCandidate\u001b[0m\u001b[1;33m]\u001b[0m\u001b[1;33m\u001b[0m\u001b[0m\n\u001b[0m\u001b[0;32m      3\u001b[0m     \u001b[0mpercent_of_votes\u001b[0m \u001b[1;33m=\u001b[0m \u001b[1;33m(\u001b[0m\u001b[0mnum_of_votes\u001b[0m\u001b[1;33m/\u001b[0m\u001b[0mTotal_votes\u001b[0m\u001b[1;33m)\u001b[0m \u001b[1;33m*\u001b[0m \u001b[1;36m100\u001b[0m\u001b[1;33m\u001b[0m\u001b[0m\n\u001b[0;32m      4\u001b[0m \u001b[1;33m\u001b[0m\u001b[0m\n\u001b[0;32m      5\u001b[0m     \u001b[1;31m# Determine the winner\u001b[0m\u001b[1;33m\u001b[0m\u001b[1;33m\u001b[0m\u001b[0m\n",
      "\u001b[1;31mNameError\u001b[0m: name 'Candidate' is not defined"
     ]
    }
   ],
   "source": [
    "for candidate in Candidates_List:\n",
    "    num_of_votes = Votes_counted_for_each_candidate[Candidate]\n",
    "    percent_of_votes = (num_of_votes/Total_votes) * 100\n",
    "\n",
    "    # Determine the winner\n",
    "    # Count and track of which candidate has the greatest number of votes\n",
    "\n",
    "    if num_of_votes > greatest_num_of_votes:\n",
    "        greatest_num_of_votes = num_of_votes\n",
    "        # create and set a winner variable equal to this candidate\n",
    "        #since they currently have the most votes\n",
    "        winner = candidate\n",
    "   # Pad the results with 2 decimal places:.2f\n",
    "    print(f\"{candidate}: {percent_of_votes:.2f}% ({num_of_votes})\")"
   ]
  },
  {
   "cell_type": "code",
   "execution_count": 44,
   "metadata": {},
   "outputs": [
    {
     "name": "stdout",
     "output_type": "stream",
     "text": [
      "Khan: 63.09% (661583)\n",
      "Khan: 19.94% (209046)\n",
      "Khan: 13.96% (146360)\n",
      "Khan: 3.01% (31586)\n",
      "-------------------------\n",
      "Winner: Khan\n",
      "-------------------------\n"
     ]
    }
   ],
   "source": [
    "for Candidate in Candidates_List:\n",
    "    num_of_votes = Votes_counted_for_each_candidate[Candidate]\n",
    "    percent_of_votes = (num_of_votes/Total_votes) * 100\n",
    "\n",
    "    # Determine the winner\n",
    "    # Count and track of which candidate has the greatest number of votes\n",
    "\n",
    "    if num_of_votes > greatest_num_of_votes:\n",
    "        greatest_num_of_votes = num_of_votes\n",
    "        # create and set a winner variable equal to this candidate\n",
    "        # for the candidate with the most votes\n",
    "        winner = candidate\n",
    "   # Pad the results with 2 decimal places:.2f\n",
    "    print(f\"{candidate}: {percent_of_votes:.2f}% ({num_of_votes})\")\n",
    "print(\"-------------------------\")\n",
    "print(f\"Winner: {winner}\")\n",
    "print(\"-------------------------\")"
   ]
  },
  {
   "cell_type": "code",
   "execution_count": 45,
   "metadata": {},
   "outputs": [
    {
     "name": "stdout",
     "output_type": "stream",
     "text": [
      "-------------------------\n",
      "Winner: Khan\n",
      "-------------------------\n"
     ]
    }
   ],
   "source": [
    "for Candidate in Candidates_List:\n",
    "    num_of_votes = Votes_counted_for_each_candidate[Candidate]\n",
    "    percent_of_votes = (num_of_votes/Total_votes) * 100\n",
    "\n",
    "    # Determine the winner\n",
    "    # Count and track of which candidate has the greatest number of votes\n",
    "\n",
    "    if num_of_votes > greatest_num_of_votes:\n",
    "        greatest_num_of_votes = num_of_votes\n",
    "        # create and set a winner variable equal to this candidate\n",
    "        # for the candidate with the most votes\n",
    "    winner = candidate\n",
    "    # Pad the results wit decimal places:.2f\n",
    "    num_of_votes = num_of_votes\n",
    "      # set tph 2rint(f\"{candidate}: {percent_of_votes:.2f}% ({num_of_votes})\")\n",
    "print(\"-------------------------\")\n",
    "print(f\"Winner: {winner}\")\n",
    "print(\"-------------------------\")"
   ]
  },
  {
   "cell_type": "code",
   "execution_count": 46,
   "metadata": {},
   "outputs": [],
   "source": [
    "import pandas as pd"
   ]
  },
  {
   "cell_type": "code",
   "execution_count": 47,
   "metadata": {},
   "outputs": [],
   "source": [
    "data_file = \"Resources/election_data.csv\""
   ]
  },
  {
   "cell_type": "code",
   "execution_count": 48,
   "metadata": {},
   "outputs": [
    {
     "name": "stdout",
     "output_type": "stream",
     "text": [
      "Total votes: 1048575\n"
     ]
    }
   ],
   "source": [
    "election_data_df = pd.read_csv(data_file)\n",
    "election_data_df\n",
    "Total_votes = election_data_df[\"Voter_ID\"].count()\n",
    "print(f\"Total votes: {Total_votes}\")"
   ]
  },
  {
   "cell_type": "code",
   "execution_count": 49,
   "metadata": {},
   "outputs": [
    {
     "data": {
      "text/plain": [
       "['Khan', 'Correy', 'Li', \"O'Tooley\"]"
      ]
     },
     "execution_count": 49,
     "metadata": {},
     "output_type": "execute_result"
    }
   ],
   "source": [
    "Candidates_List = election_data_df[\"Candidate\"].unique().tolist()\n",
    "Candidates_List"
   ]
  },
  {
   "cell_type": "code",
   "execution_count": 54,
   "metadata": {},
   "outputs": [
    {
     "data": {
      "text/plain": [
       "Khan        661583\n",
       "Correy      209046\n",
       "Li          146360\n",
       "O'Tooley     31586\n",
       "Name: Candidate, dtype: int64"
      ]
     },
     "execution_count": 54,
     "metadata": {},
     "output_type": "execute_result"
    }
   ],
   "source": [
    "Votes_counted_for_each_candidate = election_data_df[\"Candidate\"].value_counts()\n",
    "Votes_counted_for_each_candidate\n"
   ]
  },
  {
   "cell_type": "code",
   "execution_count": 52,
   "metadata": {},
   "outputs": [
    {
     "name": "stdout",
     "output_type": "stream",
     "text": [
      "Election Results\n",
      "-------------------------\n",
      "Total votes: 1048575\n",
      "-------------------------\n"
     ]
    }
   ],
   "source": [
    "greatest_num_of_votes = 0\n",
    "print(\"Election Results\")\n",
    "print(\"-------------------------\")\n",
    "print(f\"Total votes: {Total_votes}\")\n",
    "print(\"-------------------------\")"
   ]
  },
  {
   "cell_type": "code",
   "execution_count": 55,
   "metadata": {},
   "outputs": [
    {
     "name": "stdout",
     "output_type": "stream",
     "text": [
      "Khan: 63.094% (661583)\n",
      "Correy: 19.936% (209046)\n",
      "Li: 13.958% (146360)\n",
      "O'Tooley: 3.012% (31586)\n"
     ]
    }
   ],
   "source": [
    "#for candidate in Candidates_List:\n",
    "#votes_received_for_each_candidate[candidate]/total_vote)\n",
    "# print out results\n",
    "#largest_num_of_votes = 0\n",
    "#print(\"Election Results\")\n",
    "#print(\"-------------------------\")\n",
    "#print(f\"Total votes: {Total_votes}\")\n",
    "#print(\"-------------------------\")\n",
    "# for each candidate, display their raw number of votes and their percent of total votes\n",
    "for candidate in Candidates_List:\n",
    "  num_of_votes = Votes_received_for_each_candidate[candidate]\n",
    "  percent_of_votes = (num_of_votes/Total_votes) * 100\n",
    "  # determine the winner by keeping track of which candidate has the largest number of votes\n",
    "  if num_of_votes > largest_num_of_votes:\n",
    "      largest_num_of_votes = num_of_votes\n",
    "       # set the winner variable equal to this candidate\n",
    "       #since they currently have the most votes\n",
    "      winner = candidate\n",
    "   #To have 3 decimal place:.3f\n",
    "  print(f\"{candidate}: {percent_of_votes:.3f}% ({num_of_votes})\")\n",
    "#print(\"-------------------------\")\n",
    "#print(f\"Winner: {winner}\")\n",
    "#print(\"-------------------------\")"
   ]
  },
  {
   "cell_type": "code",
   "execution_count": 56,
   "metadata": {},
   "outputs": [
    {
     "name": "stdout",
     "output_type": "stream",
     "text": [
      "Election Results\n",
      "-------------------------\n",
      "Total votes: 1048575\n",
      "-------------------------\n",
      "O'Tooley: 63.09% (661583)\n",
      "O'Tooley: 19.94% (209046)\n",
      "O'Tooley: 13.96% (146360)\n",
      "O'Tooley: 3.01% (31586)\n",
      "-------------------------\n",
      "Winner: O'Tooley\n",
      "-------------------------\n"
     ]
    }
   ],
   "source": [
    "largest_num_of_votes = 0\n",
    "print(\"Election Results\")\n",
    "print(\"-------------------------\")\n",
    "print(f\"Total votes: {Total_votes}\")\n",
    "print(\"-------------------------\")\n",
    "\n",
    "#   My Count of Election Results: \n",
    "#   Election Results\n",
    "#   -------------------------\n",
    "#   Total votes: 1048575\n",
    "#   -------------------------\n",
    "\n",
    "# For each candidate:\n",
    "# Display the number of votes and the percent of total votes\n",
    "for Candidate in Candidates_List:\n",
    "    num_of_votes = Votes_counted_for_each_candidate[Candidate]\n",
    "    percent_of_votes = (num_of_votes/Total_votes) * 100\n",
    "\n",
    "    # Determine the winner\n",
    "    # Count and track of which candidate has the largest number of votes\n",
    "\n",
    "    if num_of_votes > largest_num_of_votes:\n",
    "        largest_num_of_votes = num_of_votes\n",
    "        # create and set a winner variable equal to this candidate\n",
    "        # for the candidate with the most votes\n",
    "        winner = candidate\n",
    "   # Pad the results with 2 decimal places:.2f\n",
    "    print(f\"{candidate}: {percent_of_votes:.2f}% ({num_of_votes})\")\n",
    "print(\"-------------------------\")\n",
    "print(f\"Winner: {winner}\")\n",
    "print(\"-------------------------\")"
   ]
  },
  {
   "cell_type": "code",
   "execution_count": 57,
   "metadata": {},
   "outputs": [
    {
     "name": "stdout",
     "output_type": "stream",
     "text": [
      "Khan: 63.094% (661583)\n",
      "Correy: 19.936% (209046)\n",
      "Li: 13.958% (146360)\n",
      "O'Tooley: 3.012% (31586)\n",
      "-------------------------\n",
      "Winner: O'Tooley\n",
      "-------------------------\n"
     ]
    }
   ],
   "source": [
    "for candidate in Candidates_List:\n",
    "  num_of_votes = Votes_received_for_each_candidate[candidate]\n",
    "  percent_of_votes = (num_of_votes/Total_votes) * 100\n",
    "  # determine the winner by keeping track of which candidate has the largest number of votes\n",
    "  if num_of_votes > largest_num_of_votes:\n",
    "      largest_num_of_votes = num_of_votes\n",
    "       # set the winner variable equal to this candidate\n",
    "       #since they currently have the most votes\n",
    "      winner = candidate\n",
    "   #To have 3 decimal place:.3f\n",
    "  print(f\"{candidate}: {percent_of_votes:.3f}% ({num_of_votes})\")\n",
    "print(\"-------------------------\")\n",
    "print(f\"Winner: {winner}\")\n",
    "print(\"-------------------------\")"
   ]
  },
  {
   "cell_type": "code",
   "execution_count": 59,
   "metadata": {},
   "outputs": [
    {
     "name": "stdout",
     "output_type": "stream",
     "text": [
      "Khan: 63.094% (661583)\n",
      "Correy: 19.936% (209046)\n",
      "Li: 13.958% (146360)\n",
      "O'Tooley: 3.012% (31586)\n",
      "-------------------------\n",
      "Winner: O'Tooley\n",
      "-------------------------\n"
     ]
    }
   ],
   "source": [
    "# For each candidate:\n",
    "# Display the number of votes and the percent of total votes\n",
    "for candidate in Candidates_List:\n",
    "  num_of_votes = Votes_received_for_each_candidate[candidate]\n",
    "  percent_of_votes = (num_of_votes/Total_votes) * 100\n",
    "  # determine the winner by keeping track of which candidate has the largest number of votes\n",
    "  if num_of_votes > largest_num_of_votes:\n",
    "      largest_num_of_votes = num_of_votes\n",
    "       # set the winner variable equal to this candidate\n",
    "       #since they currently have the most votes\n",
    "      winner = candidate\n",
    "    # Pad the results with 3 decimal place:.3f\n",
    "  print(f\"{candidate}: {percent_of_votes:.3f}% ({num_of_votes})\")\n",
    "print(\"-------------------------\")\n",
    "print(f\"Winner: {winner}\")\n",
    "print(\"-------------------------\")"
   ]
  },
  {
   "cell_type": "code",
   "execution_count": 63,
   "metadata": {},
   "outputs": [
    {
     "ename": "IndentationError",
     "evalue": "unindent does not match any outer indentation level (<ipython-input-63-9fdf49a005a3>, line 20)",
     "output_type": "error",
     "traceback": [
      "\u001b[1;36m  File \u001b[1;32m\"<ipython-input-63-9fdf49a005a3>\"\u001b[1;36m, line \u001b[1;32m20\u001b[0m\n\u001b[1;33m    print(f\"{candidate}: {percent_of_votes:.3f}% ({num_of_votes})\")\u001b[0m\n\u001b[1;37m                                                                   ^\u001b[0m\n\u001b[1;31mIndentationError\u001b[0m\u001b[1;31m:\u001b[0m unindent does not match any outer indentation level\n"
     ]
    }
   ],
   "source": [
    "#for candidate in Candidates_List:\n",
    "#votes_received_for_each_candidate[candidate]/total_vote)\n",
    "# print out results\n",
    "#largest_num_of_votes = 0\n",
    "#print(\"Election Results\")\n",
    "#print(\"-------------------------\")\n",
    "#print(f\"Total votes: {Total_votes}\")\n",
    "#print(\"-------------------------\")\n",
    "# for each candidate, display their raw number of votes and their percent of total votes\n",
    "for candidate in Candidates_List:\n",
    "  num_of_votes = Votes_received_for_each_candidate[candidate]\n",
    "  percent_of_votes = (num_of_votes/Total_votes) * 100\n",
    "  # determine the winner by keeping track of which candidate has the largest number of votes\n",
    "  if num_of_votes > largest_num_of_votes:\n",
    "      largest_num_of_votes = num_of_votes\n",
    "       # set the winner variable equal to this candidate\n",
    "       #since they currently have the most votes\n",
    "      winner = candidate\n",
    "   #To have 3 decimal place:.3f\n",
    "    print(f\"{candidate}: {percent_of_votes:.3f}% ({num_of_votes})\")\n",
    "print(\"-------------------------\")\n",
    "print(f\"Winner: {winner}\")\n",
    "print(\"-------------------------\")"
   ]
  },
  {
   "cell_type": "code",
   "execution_count": 65,
   "metadata": {},
   "outputs": [
    {
     "ename": "IndentationError",
     "evalue": "unindent does not match any outer indentation level (<ipython-input-65-c69162c68e8a>, line 13)",
     "output_type": "error",
     "traceback": [
      "\u001b[1;36m  File \u001b[1;32m\"<ipython-input-65-c69162c68e8a>\"\u001b[1;36m, line \u001b[1;32m13\u001b[0m\n\u001b[1;33m    print(f\"{candidate}: {percent_of_votes:.2f}% ({num_of_votes})\")\u001b[0m\n\u001b[1;37m                                                                   ^\u001b[0m\n\u001b[1;31mIndentationError\u001b[0m\u001b[1;31m:\u001b[0m unindent does not match any outer indentation level\n"
     ]
    }
   ],
   "source": [
    "# For each candidate:\n",
    "# Display the number of votes and the percent of total votes\n",
    "for candidate in Candidates_List:\n",
    "  num_of_votes = Votes_received_for_each_candidate[candidate]\n",
    "  percent_of_votes = (num_of_votes/Total_votes) * 100\n",
    "  # determine the winner by keeping track of which candidate has the largest number of votes\n",
    "  if num_of_votes > largest_num_of_votes:\n",
    "      largest_num_of_votes = num_of_votes\n",
    "        # create and set a winner variable equal to this candidate\n",
    "        # for the candidate with the most votes\n",
    "      winner = candidate\n",
    "    # Pad the results with 2 decimal place:.2f\n",
    "  print(f\"{candidate}: {percent_of_votes:.2f}% ({num_of_votes})\")\n",
    "print(\"-------------------------\")\n",
    "print(f\"Winner: {winner}\")\n",
    "print(\"-------------------------\")"
   ]
  },
  {
   "cell_type": "code",
   "execution_count": 68,
   "metadata": {},
   "outputs": [
    {
     "name": "stdout",
     "output_type": "stream",
     "text": [
      "Election Results\n",
      "-------------------------\n",
      "Total votes: 1048575\n",
      "-------------------------\n",
      "Khan: 63.09% (661583)\n",
      "Correy: 19.94% (209046)\n",
      "Li: 13.96% (146360)\n",
      "O'Tooley: 3.01% (31586)\n",
      "-------------------------\n",
      "Winner: Khan\n",
      "-------------------------\n"
     ]
    }
   ],
   "source": [
    "# For each candidate in the Candidate List:\n",
    "# Display the number of Votes_received_for_each_candidate[candidate]/total_vote)\n",
    "# Print out results\n",
    "\n",
    "largest_num_of_votes = 0\n",
    "print(\"Election Results\")\n",
    "print(\"-------------------------\")\n",
    "print(f\"Total votes: {Total_votes}\")\n",
    "print(\"-------------------------\")\n",
    "\n",
    "# For each candidate\n",
    "# Display the number of votes and the percent of total votess\n",
    "for candidate in Candidates_List:\n",
    "  num_of_votes = Votes_received_for_each_candidate[candidate]\n",
    "  percent_of_votes = (num_of_votes/Total_votes) * 100\n",
    "  # determine the winner by determining which candidate has the largest number of votes\n",
    "  if num_of_votes > largest_num_of_votes:\n",
    "      largest_num_of_votes = num_of_votes\n",
    "        # create and set a winner variable equal to this candidate\n",
    "        # for the candidate with the most vote\n",
    "      winner = candidate\n",
    "   # Pad the results with 2 decimal place:.2f\n",
    "  print(f\"{candidate}: {percent_of_votes:.2f}% ({num_of_votes})\")\n",
    "print(\"-------------------------\")\n",
    "print(f\"Winner: {winner}\")\n",
    "print(\"-------------------------\")"
   ]
  },
  {
   "cell_type": "code",
   "execution_count": 69,
   "metadata": {},
   "outputs": [],
   "source": [
    "import pandas as pd"
   ]
  },
  {
   "cell_type": "code",
   "execution_count": 70,
   "metadata": {},
   "outputs": [],
   "source": [
    "data_file = \"Resources/election_data.csv\""
   ]
  },
  {
   "cell_type": "code",
   "execution_count": 71,
   "metadata": {},
   "outputs": [
    {
     "name": "stdout",
     "output_type": "stream",
     "text": [
      "Total votes: 1048575\n"
     ]
    }
   ],
   "source": [
    "election_data_df = pd.read_csv(data_file)\n",
    "election_data_df\n",
    "Total_votes = election_data_df[\"Voter_ID\"].count()\n",
    "print(f\"Total votes: {Total_votes}\")\n"
   ]
  },
  {
   "cell_type": "code",
   "execution_count": 72,
   "metadata": {},
   "outputs": [
    {
     "data": {
      "text/plain": [
       "['Khan', 'Correy', 'Li', \"O'Tooley\"]"
      ]
     },
     "execution_count": 72,
     "metadata": {},
     "output_type": "execute_result"
    }
   ],
   "source": [
    "Candidates_List = election_data_df[\"Candidate\"].unique().tolist()\n",
    "Candidates_List\n"
   ]
  },
  {
   "cell_type": "code",
   "execution_count": 73,
   "metadata": {},
   "outputs": [
    {
     "data": {
      "text/plain": [
       "Khan        661583\n",
       "Correy      209046\n",
       "Li          146360\n",
       "O'Tooley     31586\n",
       "Name: Candidate, dtype: int64"
      ]
     },
     "execution_count": 73,
     "metadata": {},
     "output_type": "execute_result"
    }
   ],
   "source": [
    "Votes_counted_for_each_candidate = election_data_df[\"Candidate\"].value_counts()\n",
    "Votes_counted_for_each_candidate\n"
   ]
  },
  {
   "cell_type": "code",
   "execution_count": 74,
   "metadata": {},
   "outputs": [
    {
     "name": "stdout",
     "output_type": "stream",
     "text": [
      "Election Results\n",
      "-------------------------\n",
      "Total votes: 1048575\n",
      "-------------------------\n",
      "Khan: 63.09% (661583)\n",
      "Correy: 19.94% (209046)\n",
      "Li: 13.96% (146360)\n",
      "O'Tooley: 3.01% (31586)\n",
      "-------------------------\n",
      "Winner: Khan\n",
      "-------------------------\n"
     ]
    }
   ],
   "source": [
    "argest_num_of_votes = 0\n",
    "print(\"Election Results\")\n",
    "print(\"-------------------------\")\n",
    "print(f\"Total votes: {Total_votes}\")\n",
    "print(\"-------------------------\")\n",
    "\n",
    "# For each candidate\n",
    "# Display the number of votes and the percent of total votes\n",
    "for candidate in Candidates_List:\n",
    "  num_of_votes = Votes_received_for_each_candidate[candidate]\n",
    "  percent_of_votes = (num_of_votes/Total_votes) * 100\n",
    "  # determine the winner by determining which candidate has the largest number of votes\n",
    "  if num_of_votes > largest_num_of_votes:\n",
    "      largest_num_of_votes = num_of_votes\n",
    "        # create and set a winner variable equal to this candidate\n",
    "        # for the candidate with the most vote\n",
    "      winner = candidate\n",
    "   # Pad the results with 2 decimal place:.2f\n",
    "  print(f\"{candidate}: {percent_of_votes:.2f}% ({num_of_votes})\")\n",
    "print(\"-------------------------\")\n",
    "print(f\"Winner: {winner}\")\n",
    "print(\"-------------------------\")"
   ]
  },
  {
   "cell_type": "code",
   "execution_count": 75,
   "metadata": {},
   "outputs": [
    {
     "name": "stdout",
     "output_type": "stream",
     "text": [
      "Total votes: 1048575\n",
      "Election Results\n",
      "-------------------------\n",
      "Total votes: 1048575\n",
      "-------------------------\n",
      "Khan: 63.09% (661583)\n",
      "Correy: 19.94% (209046)\n",
      "Li: 13.96% (146360)\n",
      "O'Tooley: 3.01% (31586)\n",
      "-------------------------\n",
      "Winner: Khan\n",
      "-------------------------\n"
     ]
    }
   ],
   "source": [
    "#1.\tThe total number of votes cast  \n",
    "#2.\tA complete list of candidates who received votes\n",
    "#3.\tThe percentage of votes each candidate won\n",
    "#4.\tThe total number of votes each candidate won\n",
    "#5.\tThe winner of the election based on popular vote.\n",
    "#ccchttps://www.bing.com/videos/search?q=sentdex+csv+for+python&&view=detail&mid=C3404523D984B678D643C3404523D984B678D643&&FORM=VRDGAR\n",
    "\n",
    "\n",
    "# Data is in election_data.csv which has three columns:  Voter_ID, County, and Candidate\n",
    "\n",
    "import pandas as pd\n",
    "\n",
    "# Path identified to load the file\n",
    "data_file = \"Resources/election_data.csv\"\n",
    "\n",
    "# Method to read a data frame\n",
    "election_data_df = pd.read_csv(data_file)\n",
    "election_data_df\n",
    "Total_votes = election_data_df[\"Voter_ID\"].count()\n",
    "print(f\"Total votes: {Total_votes}\")\n",
    "\n",
    "# My Count of Election Results:  Total_votes = 1048575\n",
    "\n",
    "Candidates_List = election_data_df[\"Candidate\"].unique().tolist()\n",
    "Candidates_List\n",
    "\n",
    "# My Count of Election Candidates ['Khan', 'Correy', 'Li', \"O'Tooley\"]\n",
    "\n",
    "Votes_counted_for_each_candidate = election_data_df[\"Candidate\"].value_counts()\n",
    "Votes_counted_for_each_candidate\n",
    "\n",
    "#   Khan        661583\n",
    "#   Correy      209046\n",
    "#   Li          146360\n",
    "#   O'Tooley     31586\n",
    "#   Name: Candidate, dtype: int64\n",
    "\n",
    "# For each candidate in the Candidate List:\n",
    "# Display the number of Votes_received_for_each_candidate[candidate]/total_vote)\n",
    "# Print out results\n",
    "\n",
    "largest_num_of_votes = 0\n",
    "print(\"Election Results\")\n",
    "print(\"-------------------------\")\n",
    "print(f\"Total votes: {Total_votes}\")\n",
    "print(\"-------------------------\")\n",
    "\n",
    "# For each candidate\n",
    "# Display the number of votes and the percent of total votes\n",
    "for candidate in Candidates_List:\n",
    "  num_of_votes = Votes_received_for_each_candidate[candidate]\n",
    "  percent_of_votes = (num_of_votes/Total_votes) * 100\n",
    "  # determine the winner by determining which candidate has the largest number of votes\n",
    "  if num_of_votes > largest_num_of_votes:\n",
    "      largest_num_of_votes = num_of_votes\n",
    "        # create and set a winner variable equal to this candidate\n",
    "        # for the candidate with the most vote\n",
    "      winner = candidate\n",
    "   # Pad the results with 2 decimal place:.2f\n",
    "  print(f\"{candidate}: {percent_of_votes:.2f}% ({num_of_votes})\")\n",
    "print(\"-------------------------\")\n",
    "print(f\"Winner: {winner}\")\n",
    "print(\"-------------------------\")\n",
    "\n",
    "#  My \n",
    "#Election Results\n",
    "# -------------------------\n",
    "# Total votes: 1048575\n",
    "# -------------------------\n",
    "# Khan: 63.09% (661583)\n",
    "# Correy: 19.94% (209046)\n",
    "# Li: 13.96% (146360)\n",
    "# O'Tooley: 3.01% (31586)\n",
    "# -------------------------\n",
    "# Winner: Khan\n",
    "# -------------------------"
   ]
  },
  {
   "cell_type": "code",
   "execution_count": null,
   "metadata": {},
   "outputs": [],
   "source": []
  }
 ],
 "metadata": {
  "kernelspec": {
   "display_name": "Python 3",
   "language": "python",
   "name": "python3"
  },
  "language_info": {
   "codemirror_mode": {
    "name": "ipython",
    "version": 3
   },
   "file_extension": ".py",
   "mimetype": "text/x-python",
   "name": "python",
   "nbconvert_exporter": "python",
   "pygments_lexer": "ipython3",
   "version": "3.6.5"
  }
 },
 "nbformat": 4,
 "nbformat_minor": 2
}
